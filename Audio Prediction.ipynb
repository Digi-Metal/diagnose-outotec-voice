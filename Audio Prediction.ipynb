{
 "cells": [
  {
   "cell_type": "code",
   "execution_count": 94,
   "metadata": {},
   "outputs": [],
   "source": [
    "import pandas as pd\n",
    "import librosa\n",
    "import matplotlib.pyplot as plt\n",
    "import numpy as np\n",
    "import pandas as pd\n",
    "import IPython.display as ipd"
   ]
  },
  {
   "cell_type": "code",
   "execution_count": 95,
   "metadata": {},
   "outputs": [],
   "source": [
    "train = pd.read_csv(\"train.csv\")"
   ]
  },
  {
   "cell_type": "code",
   "execution_count": 96,
   "metadata": {},
   "outputs": [
    {
     "data": {
      "text/html": [
       "<div>\n",
       "<style scoped>\n",
       "    .dataframe tbody tr th:only-of-type {\n",
       "        vertical-align: middle;\n",
       "    }\n",
       "\n",
       "    .dataframe tbody tr th {\n",
       "        vertical-align: top;\n",
       "    }\n",
       "\n",
       "    .dataframe thead th {\n",
       "        text-align: right;\n",
       "    }\n",
       "</style>\n",
       "<table border=\"1\" class=\"dataframe\">\n",
       "  <thead>\n",
       "    <tr style=\"text-align: right;\">\n",
       "      <th></th>\n",
       "      <th>Name</th>\n",
       "      <th>Label</th>\n",
       "    </tr>\n",
       "  </thead>\n",
       "  <tbody>\n",
       "    <tr>\n",
       "      <th>0</th>\n",
       "      <td>C:\\Users\\turok1997\\Desktop\\project_junction\\vo...</td>\n",
       "      <td>Stopped</td>\n",
       "    </tr>\n",
       "    <tr>\n",
       "      <th>1</th>\n",
       "      <td>C:\\Users\\turok1997\\Desktop\\project_junction\\vo...</td>\n",
       "      <td>Stopped</td>\n",
       "    </tr>\n",
       "    <tr>\n",
       "      <th>2</th>\n",
       "      <td>C:\\Users\\turok1997\\Desktop\\project_junction\\vo...</td>\n",
       "      <td>Stopped</td>\n",
       "    </tr>\n",
       "    <tr>\n",
       "      <th>3</th>\n",
       "      <td>C:\\Users\\turok1997\\Desktop\\project_junction\\vo...</td>\n",
       "      <td>Stopped</td>\n",
       "    </tr>\n",
       "    <tr>\n",
       "      <th>4</th>\n",
       "      <td>C:\\Users\\turok1997\\Desktop\\project_junction\\vo...</td>\n",
       "      <td>Stopped</td>\n",
       "    </tr>\n",
       "  </tbody>\n",
       "</table>\n",
       "</div>"
      ],
      "text/plain": [
       "                                                Name    Label\n",
       "0  C:\\Users\\turok1997\\Desktop\\project_junction\\vo...  Stopped\n",
       "1  C:\\Users\\turok1997\\Desktop\\project_junction\\vo...  Stopped\n",
       "2  C:\\Users\\turok1997\\Desktop\\project_junction\\vo...  Stopped\n",
       "3  C:\\Users\\turok1997\\Desktop\\project_junction\\vo...  Stopped\n",
       "4  C:\\Users\\turok1997\\Desktop\\project_junction\\vo...  Stopped"
      ]
     },
     "execution_count": 96,
     "metadata": {},
     "output_type": "execute_result"
    }
   ],
   "source": [
    "train.head()"
   ]
  },
  {
   "cell_type": "code",
   "execution_count": 99,
   "metadata": {},
   "outputs": [],
   "source": [
    "train = train.sample(frac=1)"
   ]
  },
  {
   "cell_type": "code",
   "execution_count": 100,
   "metadata": {
    "scrolled": true
   },
   "outputs": [
    {
     "data": {
      "text/html": [
       "<div>\n",
       "<style scoped>\n",
       "    .dataframe tbody tr th:only-of-type {\n",
       "        vertical-align: middle;\n",
       "    }\n",
       "\n",
       "    .dataframe tbody tr th {\n",
       "        vertical-align: top;\n",
       "    }\n",
       "\n",
       "    .dataframe thead th {\n",
       "        text-align: right;\n",
       "    }\n",
       "</style>\n",
       "<table border=\"1\" class=\"dataframe\">\n",
       "  <thead>\n",
       "    <tr style=\"text-align: right;\">\n",
       "      <th></th>\n",
       "      <th>Name</th>\n",
       "      <th>Label</th>\n",
       "    </tr>\n",
       "  </thead>\n",
       "  <tbody>\n",
       "    <tr>\n",
       "      <th>142</th>\n",
       "      <td>C:\\Users\\turok1997\\Desktop\\project_junction\\vo...</td>\n",
       "      <td>Good</td>\n",
       "    </tr>\n",
       "    <tr>\n",
       "      <th>221</th>\n",
       "      <td>C:\\Users\\turok1997\\Desktop\\project_junction\\vo...</td>\n",
       "      <td>Good</td>\n",
       "    </tr>\n",
       "    <tr>\n",
       "      <th>309</th>\n",
       "      <td>C:\\Users\\turok1997\\Desktop\\project_junction\\vo...</td>\n",
       "      <td>Stopped</td>\n",
       "    </tr>\n",
       "    <tr>\n",
       "      <th>131</th>\n",
       "      <td>C:\\Users\\turok1997\\Desktop\\project_junction\\vo...</td>\n",
       "      <td>Good</td>\n",
       "    </tr>\n",
       "    <tr>\n",
       "      <th>159</th>\n",
       "      <td>C:\\Users\\turok1997\\Desktop\\project_junction\\vo...</td>\n",
       "      <td>Good</td>\n",
       "    </tr>\n",
       "  </tbody>\n",
       "</table>\n",
       "</div>"
      ],
      "text/plain": [
       "                                                  Name    Label\n",
       "142  C:\\Users\\turok1997\\Desktop\\project_junction\\vo...     Good\n",
       "221  C:\\Users\\turok1997\\Desktop\\project_junction\\vo...     Good\n",
       "309  C:\\Users\\turok1997\\Desktop\\project_junction\\vo...  Stopped\n",
       "131  C:\\Users\\turok1997\\Desktop\\project_junction\\vo...     Good\n",
       "159  C:\\Users\\turok1997\\Desktop\\project_junction\\vo...     Good"
      ]
     },
     "execution_count": 100,
     "metadata": {},
     "output_type": "execute_result"
    }
   ],
   "source": [
    "train.head()"
   ]
  },
  {
   "cell_type": "code",
   "execution_count": 101,
   "metadata": {},
   "outputs": [],
   "source": [
    "def parser(row):\n",
    "    # get the auidio files by id \n",
    "    filename = row[0]\n",
    "    try:\n",
    "        # use kaise_fast to get faster feature extraction\n",
    "        X, samplerate = librosa.load(filename, res_type = 'kaiser_fast')\n",
    "        #extract mfcc feature\n",
    "        mfcc = np.mean(librosa.feature.mfcc(y = X, sr = samplerate, n_mfcc = 40).T, axis=0)\n",
    "    except Exception as e:\n",
    "        print(e)\n",
    "        return None, None\n",
    "    feature = mfcc\n",
    "    label = row[1]\n",
    "    return [feature, label]"
   ]
  },
  {
   "cell_type": "code",
   "execution_count": 102,
   "metadata": {},
   "outputs": [],
   "source": [
    "data = train.apply(parser, axis=1)"
   ]
  },
  {
   "cell_type": "code",
   "execution_count": 105,
   "metadata": {},
   "outputs": [],
   "source": [
    "data.to_csv(\"preprocessed.csv\")"
   ]
  },
  {
   "cell_type": "code",
   "execution_count": 106,
   "metadata": {},
   "outputs": [],
   "source": [
    "audio = pd.DataFrame(columns=['feature','labels'])"
   ]
  },
  {
   "cell_type": "code",
   "execution_count": 107,
   "metadata": {},
   "outputs": [],
   "source": [
    "for d in data:\n",
    "    audio = audio.append({'feature':d[0], 'labels':d[1]}, ignore_index=True)\n"
   ]
  },
  {
   "cell_type": "code",
   "execution_count": 108,
   "metadata": {},
   "outputs": [
    {
     "data": {
      "text/html": [
       "<div>\n",
       "<style scoped>\n",
       "    .dataframe tbody tr th:only-of-type {\n",
       "        vertical-align: middle;\n",
       "    }\n",
       "\n",
       "    .dataframe tbody tr th {\n",
       "        vertical-align: top;\n",
       "    }\n",
       "\n",
       "    .dataframe thead th {\n",
       "        text-align: right;\n",
       "    }\n",
       "</style>\n",
       "<table border=\"1\" class=\"dataframe\">\n",
       "  <thead>\n",
       "    <tr style=\"text-align: right;\">\n",
       "      <th></th>\n",
       "      <th>feature</th>\n",
       "      <th>labels</th>\n",
       "    </tr>\n",
       "  </thead>\n",
       "  <tbody>\n",
       "    <tr>\n",
       "      <th>0</th>\n",
       "      <td>[-95.25659088856045, 87.88587888379766, -14.76...</td>\n",
       "      <td>Good</td>\n",
       "    </tr>\n",
       "    <tr>\n",
       "      <th>1</th>\n",
       "      <td>[-96.63717659333744, 95.1054511305555, -31.897...</td>\n",
       "      <td>Good</td>\n",
       "    </tr>\n",
       "    <tr>\n",
       "      <th>2</th>\n",
       "      <td>[-126.5541062129846, 95.80420699844338, -13.66...</td>\n",
       "      <td>Stopped</td>\n",
       "    </tr>\n",
       "    <tr>\n",
       "      <th>3</th>\n",
       "      <td>[-100.49741056817338, 94.760363678197, -9.7901...</td>\n",
       "      <td>Good</td>\n",
       "    </tr>\n",
       "    <tr>\n",
       "      <th>4</th>\n",
       "      <td>[-65.91828079731668, 84.19437067544071, -30.04...</td>\n",
       "      <td>Good</td>\n",
       "    </tr>\n",
       "  </tbody>\n",
       "</table>\n",
       "</div>"
      ],
      "text/plain": [
       "                                             feature   labels\n",
       "0  [-95.25659088856045, 87.88587888379766, -14.76...     Good\n",
       "1  [-96.63717659333744, 95.1054511305555, -31.897...     Good\n",
       "2  [-126.5541062129846, 95.80420699844338, -13.66...  Stopped\n",
       "3  [-100.49741056817338, 94.760363678197, -9.7901...     Good\n",
       "4  [-65.91828079731668, 84.19437067544071, -30.04...     Good"
      ]
     },
     "execution_count": 108,
     "metadata": {},
     "output_type": "execute_result"
    }
   ],
   "source": [
    "audio.head()"
   ]
  },
  {
   "cell_type": "code",
   "execution_count": 147,
   "metadata": {},
   "outputs": [
    {
     "name": "stdout",
     "output_type": "stream",
     "text": [
      "Stopped\n"
     ]
    }
   ],
   "source": [
    "# one hot encoding\n",
    "from sklearn.preprocessing import LabelEncoder\n",
    "from keras.utils import np_utils\n",
    "X = np.array(audio['feature'].tolist())\n",
    "y = np.array(audio['labels'].tolist())\n",
    "lb = LabelEncoder()\n",
    "y = np_utils.to_categorical(lb.fit_transform(y))"
   ]
  },
  {
   "cell_type": "code",
   "execution_count": 113,
   "metadata": {},
   "outputs": [],
   "source": [
    "train_X = X[:300]\n",
    "train_y = y[:300]\n",
    "val_x = X[300:lines]\n",
    "val_y = y[300:lines]"
   ]
  },
  {
   "cell_type": "code",
   "execution_count": 117,
   "metadata": {},
   "outputs": [],
   "source": [
    "from keras.models import Sequential\n",
    "from keras.layers import Dense, Dropout, Activation, Flatten\n",
    "from keras.layers import Convolution2D, MaxPooling2D\n",
    "from keras.optimizers import Adam\n",
    "from sklearn import metrics \n",
    "\n",
    "num_labels = y.shape[1]\n",
    "filter_size = 2\n",
    "\n",
    "# build model\n",
    "model = Sequential()\n",
    "\n",
    "model.add(Dense(256, input_shape=(40,)))\n",
    "model.add(Activation('relu'))\n",
    "model.add(Dropout(0.3))\n",
    "\n",
    "model.add(Dense(256))\n",
    "model.add(Activation('relu'))\n",
    "model.add(Dropout(0.3))\n",
    "\n",
    "model.add(Dense(num_labels))\n",
    "model.add(Activation('softmax'))\n",
    "\n",
    "model.compile(loss='categorical_crossentropy', metrics=['accuracy'], optimizer='adam')"
   ]
  },
  {
   "cell_type": "code",
   "execution_count": 135,
   "metadata": {},
   "outputs": [
    {
     "name": "stdout",
     "output_type": "stream",
     "text": [
      "Train on 300 samples, validate on 70 samples\n",
      "Epoch 1/60\n",
      "300/300 [==============================] - 0s 351us/step - loss: 0.3631 - acc: 0.8533 - val_loss: 0.5865 - val_acc: 0.8000\n",
      "Epoch 2/60\n",
      "300/300 [==============================] - 0s 575us/step - loss: 0.3675 - acc: 0.8367 - val_loss: 0.6379 - val_acc: 0.8143\n",
      "Epoch 3/60\n",
      "300/300 [==============================] - 0s 579us/step - loss: 0.4084 - acc: 0.8333 - val_loss: 0.5386 - val_acc: 0.8143\n",
      "Epoch 4/60\n",
      "300/300 [==============================] - 0s 575us/step - loss: 0.3728 - acc: 0.8433 - val_loss: 0.5562 - val_acc: 0.8143\n",
      "Epoch 5/60\n",
      "300/300 [==============================] - 0s 520us/step - loss: 0.3473 - acc: 0.8633 - val_loss: 0.5522 - val_acc: 0.8000\n",
      "Epoch 6/60\n",
      "300/300 [==============================] - 0s 508us/step - loss: 0.3465 - acc: 0.8933 - val_loss: 0.5925 - val_acc: 0.8429\n",
      "Epoch 7/60\n",
      "300/300 [==============================] - 0s 544us/step - loss: 0.3595 - acc: 0.8500 - val_loss: 0.6121 - val_acc: 0.7857\n",
      "Epoch 8/60\n",
      "300/300 [==============================] - 0s 590us/step - loss: 0.3333 - acc: 0.8867 - val_loss: 0.5889 - val_acc: 0.7714\n",
      "Epoch 9/60\n",
      "300/300 [==============================] - 0s 515us/step - loss: 0.3625 - acc: 0.8600 - val_loss: 0.6359 - val_acc: 0.8286\n",
      "Epoch 10/60\n",
      "300/300 [==============================] - 0s 576us/step - loss: 0.3326 - acc: 0.8567 - val_loss: 0.6042 - val_acc: 0.8286\n",
      "Epoch 11/60\n",
      "300/300 [==============================] - 0s 535us/step - loss: 0.3444 - acc: 0.8600 - val_loss: 0.5655 - val_acc: 0.8429\n",
      "Epoch 12/60\n",
      "300/300 [==============================] - 0s 588us/step - loss: 0.3698 - acc: 0.8600 - val_loss: 0.6187 - val_acc: 0.8143\n",
      "Epoch 13/60\n",
      "300/300 [==============================] - 0s 367us/step - loss: 0.3854 - acc: 0.8567 - val_loss: 0.6248 - val_acc: 0.8286\n",
      "Epoch 14/60\n",
      "300/300 [==============================] - 0s 506us/step - loss: 0.4075 - acc: 0.8300 - val_loss: 0.6160 - val_acc: 0.8286\n",
      "Epoch 15/60\n",
      "300/300 [==============================] - 0s 442us/step - loss: 0.3173 - acc: 0.8733 - val_loss: 0.5821 - val_acc: 0.8429\n",
      "Epoch 16/60\n",
      "300/300 [==============================] - 0s 333us/step - loss: 0.3341 - acc: 0.8800 - val_loss: 0.5841 - val_acc: 0.8286\n",
      "Epoch 17/60\n",
      "300/300 [==============================] - 0s 503us/step - loss: 0.3443 - acc: 0.8600 - val_loss: 0.6520 - val_acc: 0.8571\n",
      "Epoch 18/60\n",
      "300/300 [==============================] - 0s 549us/step - loss: 0.3295 - acc: 0.8600 - val_loss: 0.5700 - val_acc: 0.8143\n",
      "Epoch 19/60\n",
      "300/300 [==============================] - 0s 538us/step - loss: 0.2811 - acc: 0.8833 - val_loss: 0.5742 - val_acc: 0.8286\n",
      "Epoch 20/60\n",
      "300/300 [==============================] - 0s 472us/step - loss: 0.2988 - acc: 0.8833 - val_loss: 0.6559 - val_acc: 0.8286\n",
      "Epoch 21/60\n",
      "300/300 [==============================] - 0s 596us/step - loss: 0.3273 - acc: 0.8600 - val_loss: 0.5603 - val_acc: 0.8429\n",
      "Epoch 22/60\n",
      "300/300 [==============================] - 0s 416us/step - loss: 0.3093 - acc: 0.8900 - val_loss: 0.6069 - val_acc: 0.8714\n",
      "Epoch 23/60\n",
      "300/300 [==============================] - 0s 637us/step - loss: 0.3017 - acc: 0.8667 - val_loss: 0.6143 - val_acc: 0.8714\n",
      "Epoch 24/60\n",
      "300/300 [==============================] - 0s 559us/step - loss: 0.3172 - acc: 0.8733 - val_loss: 0.6291 - val_acc: 0.8143\n",
      "Epoch 25/60\n",
      "300/300 [==============================] - 0s 473us/step - loss: 0.2978 - acc: 0.8867 - val_loss: 0.6372 - val_acc: 0.8143\n",
      "Epoch 26/60\n",
      "300/300 [==============================] - 0s 464us/step - loss: 0.3479 - acc: 0.8667 - val_loss: 0.5582 - val_acc: 0.7857\n",
      "Epoch 27/60\n",
      "300/300 [==============================] - 0s 486us/step - loss: 0.3317 - acc: 0.8667 - val_loss: 0.6494 - val_acc: 0.8429\n",
      "Epoch 28/60\n",
      "300/300 [==============================] - 0s 514us/step - loss: 0.2815 - acc: 0.8933 - val_loss: 0.5404 - val_acc: 0.8286\n",
      "Epoch 29/60\n",
      "300/300 [==============================] - 0s 449us/step - loss: 0.2953 - acc: 0.8800 - val_loss: 0.5732 - val_acc: 0.8429\n",
      "Epoch 30/60\n",
      "300/300 [==============================] - 0s 360us/step - loss: 0.2928 - acc: 0.8700 - val_loss: 0.5652 - val_acc: 0.8571\n",
      "Epoch 31/60\n",
      "300/300 [==============================] - 0s 451us/step - loss: 0.2796 - acc: 0.8933 - val_loss: 0.5570 - val_acc: 0.8714\n",
      "Epoch 32/60\n",
      "300/300 [==============================] - 0s 403us/step - loss: 0.3426 - acc: 0.8433 - val_loss: 0.5454 - val_acc: 0.8429\n",
      "Epoch 33/60\n",
      "300/300 [==============================] - 0s 370us/step - loss: 0.3006 - acc: 0.8967 - val_loss: 0.5526 - val_acc: 0.8571\n",
      "Epoch 34/60\n",
      "300/300 [==============================] - 0s 487us/step - loss: 0.2881 - acc: 0.8700 - val_loss: 0.5411 - val_acc: 0.8429\n",
      "Epoch 35/60\n",
      "300/300 [==============================] - 0s 476us/step - loss: 0.2801 - acc: 0.9000 - val_loss: 0.5947 - val_acc: 0.8571\n",
      "Epoch 36/60\n",
      "300/300 [==============================] - 0s 396us/step - loss: 0.2687 - acc: 0.8900 - val_loss: 0.5571 - val_acc: 0.8429\n",
      "Epoch 37/60\n",
      "300/300 [==============================] - 0s 354us/step - loss: 0.2854 - acc: 0.8933 - val_loss: 0.6609 - val_acc: 0.8429\n",
      "Epoch 38/60\n",
      "300/300 [==============================] - 0s 489us/step - loss: 0.2940 - acc: 0.8900 - val_loss: 0.5639 - val_acc: 0.8286\n",
      "Epoch 39/60\n",
      "300/300 [==============================] - 0s 330us/step - loss: 0.3057 - acc: 0.8967 - val_loss: 0.6211 - val_acc: 0.8286\n",
      "Epoch 40/60\n",
      "300/300 [==============================] - 0s 366us/step - loss: 0.2854 - acc: 0.8800 - val_loss: 0.6120 - val_acc: 0.8286\n",
      "Epoch 41/60\n",
      "300/300 [==============================] - 0s 359us/step - loss: 0.2627 - acc: 0.8900 - val_loss: 0.6283 - val_acc: 0.8286\n",
      "Epoch 42/60\n",
      "300/300 [==============================] - 0s 358us/step - loss: 0.2771 - acc: 0.8900 - val_loss: 0.6567 - val_acc: 0.8714\n",
      "Epoch 43/60\n",
      "300/300 [==============================] - 0s 366us/step - loss: 0.2992 - acc: 0.8900 - val_loss: 0.6640 - val_acc: 0.8286\n",
      "Epoch 44/60\n",
      "300/300 [==============================] - 0s 337us/step - loss: 0.2771 - acc: 0.8967 - val_loss: 0.7291 - val_acc: 0.8000\n",
      "Epoch 45/60\n",
      "300/300 [==============================] - 0s 358us/step - loss: 0.3090 - acc: 0.8733 - val_loss: 0.6959 - val_acc: 0.8143\n",
      "Epoch 46/60\n",
      "300/300 [==============================] - 0s 386us/step - loss: 0.3231 - acc: 0.8800 - val_loss: 0.7039 - val_acc: 0.8429\n",
      "Epoch 47/60\n",
      "300/300 [==============================] - 0s 321us/step - loss: 0.2836 - acc: 0.8967 - val_loss: 0.6918 - val_acc: 0.8714\n",
      "Epoch 48/60\n",
      "300/300 [==============================] - 0s 359us/step - loss: 0.3084 - acc: 0.9000 - val_loss: 0.6234 - val_acc: 0.8857\n",
      "Epoch 49/60\n",
      "300/300 [==============================] - 0s 329us/step - loss: 0.2583 - acc: 0.8900 - val_loss: 0.6255 - val_acc: 0.8143\n",
      "Epoch 50/60\n",
      "300/300 [==============================] - 0s 351us/step - loss: 0.2385 - acc: 0.9200 - val_loss: 0.6614 - val_acc: 0.8714\n",
      "Epoch 51/60\n",
      "300/300 [==============================] - 0s 325us/step - loss: 0.2846 - acc: 0.8733 - val_loss: 0.6925 - val_acc: 0.8429\n",
      "Epoch 52/60\n",
      "300/300 [==============================] - 0s 353us/step - loss: 0.2567 - acc: 0.8933 - val_loss: 0.6265 - val_acc: 0.8143\n",
      "Epoch 53/60\n",
      "300/300 [==============================] - 0s 319us/step - loss: 0.3197 - acc: 0.8567 - val_loss: 0.6704 - val_acc: 0.8571\n",
      "Epoch 54/60\n",
      "300/300 [==============================] - 0s 330us/step - loss: 0.2852 - acc: 0.8933 - val_loss: 0.6786 - val_acc: 0.8143\n",
      "Epoch 55/60\n",
      "300/300 [==============================] - 0s 360us/step - loss: 0.2588 - acc: 0.9100 - val_loss: 0.6348 - val_acc: 0.8429\n",
      "Epoch 56/60\n",
      "300/300 [==============================] - 0s 291us/step - loss: 0.2500 - acc: 0.9033 - val_loss: 0.6893 - val_acc: 0.8429\n",
      "Epoch 57/60\n",
      "300/300 [==============================] - 0s 305us/step - loss: 0.2493 - acc: 0.9033 - val_loss: 0.7029 - val_acc: 0.8429\n",
      "Epoch 58/60\n",
      "300/300 [==============================] - 0s 313us/step - loss: 0.2857 - acc: 0.8933 - val_loss: 0.8073 - val_acc: 0.7571\n",
      "Epoch 59/60\n",
      "300/300 [==============================] - 0s 304us/step - loss: 0.2791 - acc: 0.8967 - val_loss: 0.8468 - val_acc: 0.8714\n",
      "Epoch 60/60\n",
      "300/300 [==============================] - 0s 338us/step - loss: 0.2826 - acc: 0.8867 - val_loss: 0.6346 - val_acc: 0.8714\n"
     ]
    },
    {
     "data": {
      "text/plain": [
       "<keras.callbacks.History at 0x2751dd9f438>"
      ]
     },
     "execution_count": 135,
     "metadata": {},
     "output_type": "execute_result"
    }
   ],
   "source": [
    "model.fit(train_X, train_y, batch_size=16, epochs=60, validation_data=(val_x, val_y))"
   ]
  },
  {
   "cell_type": "code",
   "execution_count": 142,
   "metadata": {},
   "outputs": [
    {
     "data": {
      "text/plain": [
       "array([[5.95467746e-01, 3.91625106e-01, 1.29071185e-02],\n",
       "       [2.11471710e-02, 9.70337927e-01, 8.51492677e-03],\n",
       "       [2.09342329e-06, 8.12583268e-01, 1.87414601e-01],\n",
       "       [1.60739794e-01, 8.32646251e-01, 6.61397260e-03],\n",
       "       [1.73551202e-01, 7.35911310e-01, 9.05374959e-02],\n",
       "       [9.38316137e-02, 8.25692475e-01, 8.04758146e-02],\n",
       "       [6.15219542e-05, 5.27863428e-02, 9.47152138e-01],\n",
       "       [1.13487683e-01, 8.02030504e-01, 8.44818130e-02],\n",
       "       [3.27059883e-04, 6.97657585e-01, 3.02015364e-01],\n",
       "       [1.76199377e-02, 8.53923678e-01, 1.28456473e-01],\n",
       "       [1.61568874e-08, 1.59851729e-03, 9.98401463e-01],\n",
       "       [4.44890389e-07, 9.95946348e-01, 4.05313633e-03],\n",
       "       [2.40397230e-02, 9.71940577e-01, 4.01973724e-03],\n",
       "       [1.44773794e-05, 8.45810175e-02, 9.15404558e-01],\n",
       "       [4.14986210e-03, 9.84271109e-01, 1.15790581e-02],\n",
       "       [6.20317187e-10, 1.62790343e-01, 8.37209642e-01],\n",
       "       [5.75494505e-02, 9.38264489e-01, 4.18613758e-03],\n",
       "       [2.75333803e-02, 9.34548497e-01, 3.79181132e-02],\n",
       "       [3.00228279e-02, 9.59412932e-01, 1.05641605e-02],\n",
       "       [3.21388468e-02, 9.32670176e-01, 3.51909250e-02],\n",
       "       [3.87024403e-01, 5.78355253e-01, 3.46203111e-02],\n",
       "       [3.36483161e-08, 5.80311241e-03, 9.94196892e-01],\n",
       "       [4.45481943e-04, 1.47019163e-01, 8.52535367e-01],\n",
       "       [9.03546595e-12, 4.44237094e-06, 9.99995589e-01],\n",
       "       [1.59126794e-05, 9.89954114e-01, 1.00299791e-02],\n",
       "       [1.80789456e-02, 6.44565642e-01, 3.37355405e-01],\n",
       "       [1.01503069e-02, 9.20500636e-01, 6.93490356e-02],\n",
       "       [1.62566671e-09, 9.99937773e-01, 6.21699583e-05],\n",
       "       [2.19768379e-03, 8.30218732e-01, 1.67583510e-01],\n",
       "       [2.58914834e-10, 2.11525432e-04, 9.99788463e-01],\n",
       "       [4.79874075e-07, 1.27298208e-02, 9.87269759e-01],\n",
       "       [4.12018932e-02, 9.44315553e-01, 1.44826667e-02],\n",
       "       [1.31538427e-02, 9.63164628e-01, 2.36815456e-02],\n",
       "       [1.97697836e-09, 5.88590592e-05, 9.99941111e-01],\n",
       "       [1.05799758e-04, 2.23932236e-01, 7.75961936e-01],\n",
       "       [2.30421010e-05, 6.59012139e-01, 3.40964794e-01],\n",
       "       [6.00210670e-03, 9.89537716e-01, 4.46010428e-03],\n",
       "       [1.66831420e-08, 2.55689520e-04, 9.99744236e-01],\n",
       "       [8.19674786e-03, 9.80810463e-01, 1.09927189e-02],\n",
       "       [1.84814726e-05, 9.98822749e-01, 1.15880603e-03],\n",
       "       [2.42687687e-02, 9.19131994e-01, 5.65992706e-02],\n",
       "       [9.47981924e-02, 7.94584215e-01, 1.10617682e-01],\n",
       "       [8.62844586e-01, 1.23981051e-01, 1.31743606e-02],\n",
       "       [3.63471307e-04, 9.32524502e-01, 6.71119913e-02],\n",
       "       [1.55802281e-03, 9.83809114e-01, 1.46327959e-02],\n",
       "       [9.78191674e-01, 2.12195199e-02, 5.88768627e-04],\n",
       "       [1.48100854e-09, 1.17234500e-04, 9.99882698e-01],\n",
       "       [1.37715699e-06, 6.38240814e-01, 3.61757904e-01],\n",
       "       [1.15643451e-02, 8.53762090e-01, 1.34673566e-01],\n",
       "       [6.53986959e-03, 9.92161691e-01, 1.29841478e-03],\n",
       "       [9.99141812e-01, 7.70690967e-04, 8.74500693e-05],\n",
       "       [4.79214179e-07, 9.99954939e-01, 4.45393016e-05],\n",
       "       [5.35465889e-02, 9.41624522e-01, 4.82890056e-03],\n",
       "       [9.31821822e-04, 9.98128593e-01, 9.39648482e-04],\n",
       "       [3.77512038e-01, 5.98981917e-01, 2.35060249e-02],\n",
       "       [1.51277989e-01, 6.60347998e-01, 1.88373953e-01],\n",
       "       [8.07712600e-03, 9.84413624e-01, 7.50923762e-03],\n",
       "       [3.53828073e-05, 2.17072427e-01, 7.82892227e-01],\n",
       "       [9.98618245e-01, 1.34053384e-03, 4.11779147e-05],\n",
       "       [7.38159770e-06, 9.35251236e-01, 6.47413954e-02],\n",
       "       [9.99704421e-01, 2.94669589e-04, 7.91117031e-07],\n",
       "       [1.77778862e-02, 9.38892066e-01, 4.33301069e-02],\n",
       "       [1.38931960e-01, 7.84689605e-01, 7.63784051e-02],\n",
       "       [2.98063725e-01, 6.81822360e-01, 2.01139413e-02],\n",
       "       [1.33807873e-02, 9.33084726e-01, 5.35344407e-02],\n",
       "       [4.14969782e-06, 8.66876729e-03, 9.91327107e-01],\n",
       "       [9.74655092e-01, 2.04743128e-02, 4.87061776e-03],\n",
       "       [1.43164381e-01, 8.48734558e-01, 8.10102932e-03],\n",
       "       [2.95994610e-01, 5.74321210e-01, 1.29684255e-01],\n",
       "       [9.98089090e-04, 4.88519251e-01, 5.10482609e-01]], dtype=float32)"
      ]
     },
     "execution_count": 142,
     "metadata": {},
     "output_type": "execute_result"
    }
   ],
   "source": [
    "predicted_prob = model.predict_proba(val_x)\n",
    "predicted_prob"
   ]
  },
  {
   "cell_type": "code",
   "execution_count": 202,
   "metadata": {},
   "outputs": [],
   "source": [
    "predicted = np.argmax(predicted_prob, axis=1)"
   ]
  },
  {
   "cell_type": "code",
   "execution_count": 203,
   "metadata": {},
   "outputs": [],
   "source": [
    "true_value = np.argmax(val_y, axis=1)"
   ]
  },
  {
   "cell_type": "code",
   "execution_count": 204,
   "metadata": {},
   "outputs": [
    {
     "data": {
      "text/plain": [
       "array([[ 7,  1,  0],\n",
       "       [ 0, 40,  2],\n",
       "       [ 0,  6, 14]], dtype=int64)"
      ]
     },
     "execution_count": 204,
     "metadata": {},
     "output_type": "execute_result"
    }
   ],
   "source": [
    "from sklearn.metrics import confusion_matrix\n",
    "\n",
    "confusion_matrix(true_value, predicted)"
   ]
  },
  {
   "cell_type": "code",
   "execution_count": 173,
   "metadata": {},
   "outputs": [],
   "source": [
    "#example file which transmit from good to failure state\n",
    "file = \"C:/Users/turok1997/Desktop/project_junction/device1_channel1_20181021180537.wav\"\n",
    "def parser(row):\n",
    "    # get the auidio files by id \n",
    "    filename = row\n",
    "    try:\n",
    "        # use kaise_fast to get faster feature extraction\n",
    "        X, samplerate = librosa.load(filename, res_type = 'kaiser_fast')\n",
    "        #extract mfcc feature\n",
    "        mfcc = np.mean(librosa.feature.mfcc(y = X, sr = samplerate, n_mfcc = 40).T, axis=0)\n",
    "    except Exception as e:\n",
    "        print(e)\n",
    "        return None, None\n",
    "    feature = mfcc\n",
    "    return feature"
   ]
  },
  {
   "cell_type": "code",
   "execution_count": 175,
   "metadata": {},
   "outputs": [],
   "source": [
    "features = parser(file)"
   ]
  },
  {
   "cell_type": "code",
   "execution_count": 193,
   "metadata": {},
   "outputs": [],
   "source": [
    "f = features.reshape(1,-1)"
   ]
  },
  {
   "cell_type": "code",
   "execution_count": 196,
   "metadata": {},
   "outputs": [
    {
     "data": {
      "text/plain": [
       "array([[0.9191676 , 0.07845156, 0.00238094]], dtype=float32)"
      ]
     },
     "execution_count": 196,
     "metadata": {},
     "output_type": "execute_result"
    }
   ],
   "source": [
    "model.predict_proba(f)"
   ]
  },
  {
   "cell_type": "code",
   "execution_count": null,
   "metadata": {},
   "outputs": [],
   "source": []
  }
 ],
 "metadata": {
  "kernelspec": {
   "display_name": "Python 3",
   "language": "python",
   "name": "python3"
  },
  "language_info": {
   "codemirror_mode": {
    "name": "ipython",
    "version": 3
   },
   "file_extension": ".py",
   "mimetype": "text/x-python",
   "name": "python",
   "nbconvert_exporter": "python",
   "pygments_lexer": "ipython3",
   "version": "3.6.5"
  }
 },
 "nbformat": 4,
 "nbformat_minor": 2
}
