{
 "cells": [
  {
   "cell_type": "code",
   "execution_count": 165,
   "metadata": {},
   "outputs": [],
   "source": [
    "import pandas as pd\n",
    "import numpy as np"
   ]
  },
  {
   "cell_type": "code",
   "execution_count": 166,
   "metadata": {},
   "outputs": [],
   "source": [
    "data_info = pd.read_excel(\"voices.xlsx\")"
   ]
  },
  {
   "cell_type": "code",
   "execution_count": 167,
   "metadata": {},
   "outputs": [
    {
     "data": {
      "text/plain": [
       "(51, 5)"
      ]
     },
     "execution_count": 167,
     "metadata": {},
     "output_type": "execute_result"
    }
   ],
   "source": [
    "data_info.shape"
   ]
  },
  {
   "cell_type": "code",
   "execution_count": 168,
   "metadata": {},
   "outputs": [
    {
     "data": {
      "text/html": [
       "<div>\n",
       "<style scoped>\n",
       "    .dataframe tbody tr th:only-of-type {\n",
       "        vertical-align: middle;\n",
       "    }\n",
       "\n",
       "    .dataframe tbody tr th {\n",
       "        vertical-align: top;\n",
       "    }\n",
       "\n",
       "    .dataframe thead th {\n",
       "        text-align: right;\n",
       "    }\n",
       "</style>\n",
       "<table border=\"1\" class=\"dataframe\">\n",
       "  <thead>\n",
       "    <tr style=\"text-align: right;\">\n",
       "      <th></th>\n",
       "      <th>Date</th>\n",
       "      <th>Time</th>\n",
       "      <th>Date_2</th>\n",
       "      <th>Time_2</th>\n",
       "      <th>label</th>\n",
       "    </tr>\n",
       "  </thead>\n",
       "  <tbody>\n",
       "    <tr>\n",
       "      <th>0</th>\n",
       "      <td>2018-10-12</td>\n",
       "      <td>13:00:00</td>\n",
       "      <td>2018-10-12</td>\n",
       "      <td>16:00:00</td>\n",
       "      <td>Stopped</td>\n",
       "    </tr>\n",
       "    <tr>\n",
       "      <th>1</th>\n",
       "      <td>2018-10-12</td>\n",
       "      <td>16:00:00</td>\n",
       "      <td>2018-10-12</td>\n",
       "      <td>18:00:00</td>\n",
       "      <td>Good</td>\n",
       "    </tr>\n",
       "    <tr>\n",
       "      <th>2</th>\n",
       "      <td>2018-10-12</td>\n",
       "      <td>18:00:00</td>\n",
       "      <td>2018-10-13</td>\n",
       "      <td>12:15:00</td>\n",
       "      <td>Good</td>\n",
       "    </tr>\n",
       "    <tr>\n",
       "      <th>3</th>\n",
       "      <td>2018-10-13</td>\n",
       "      <td>12:15:00</td>\n",
       "      <td>2018-10-13</td>\n",
       "      <td>14:15:00</td>\n",
       "      <td>Good</td>\n",
       "    </tr>\n",
       "    <tr>\n",
       "      <th>4</th>\n",
       "      <td>2018-10-13</td>\n",
       "      <td>14:15:00</td>\n",
       "      <td>2018-10-13</td>\n",
       "      <td>18:15:00</td>\n",
       "      <td>Stopped</td>\n",
       "    </tr>\n",
       "  </tbody>\n",
       "</table>\n",
       "</div>"
      ],
      "text/plain": [
       "        Date      Time     Date_2    Time_2    label\n",
       "0 2018-10-12  13:00:00 2018-10-12  16:00:00  Stopped\n",
       "1 2018-10-12  16:00:00 2018-10-12  18:00:00     Good\n",
       "2 2018-10-12  18:00:00 2018-10-13  12:15:00     Good\n",
       "3 2018-10-13  12:15:00 2018-10-13  14:15:00     Good\n",
       "4 2018-10-13  14:15:00 2018-10-13  18:15:00  Stopped"
      ]
     },
     "execution_count": 168,
     "metadata": {},
     "output_type": "execute_result"
    }
   ],
   "source": [
    "data_info.head()"
   ]
  },
  {
   "cell_type": "code",
   "execution_count": 170,
   "metadata": {},
   "outputs": [],
   "source": [
    "import os\n",
    "import glob\n",
    "import scipy as sc\n",
    "from time import mktime\n",
    "from datetime import datetime\n",
    "audio_path = os.getcwd() + '\\\\voices'\n",
    "files = os.listdir(audio_path)\n",
    "date = []\n",
    "_date = []\n",
    "_time = []\n",
    "audios = []\n",
    "for filename in glob.glob(os.path.join(audio_path, '*.wav')):\n",
    "    audios.append(filename)\n",
    "    file = filename.split(\"_\")[-1].strip(\".wav\")\n",
    "    #print(file)\n",
    "    #date.append(file[0:4]+\"-\"+file[4:6]+\"-\"+file[6:8])\n",
    "    _date.append(pd.to_datetime(file[0:4]+\"-\"+file[4:6]+\"-\"+file[6:8]))\n",
    "    #_time.append(file[8:10]+\":\"+file[10:12]+\":\"+file[12:])\n",
    "    d = datetime.strptime(file[0:4]+\"-\"+file[4:6]+\"-\"+file[6:8] + \" \" +file[8:10]+\":\"+file[10:12]+\":\"+file[12:], \"%Y-%m-%d %H:%M:%S\").timetuple()\n",
    "    _time.append(datetime.fromtimestamp(mktime(d)))"
   ]
  },
  {
   "cell_type": "code",
   "execution_count": 172,
   "metadata": {},
   "outputs": [],
   "source": [
    "unix_time = []\n",
    "for i in range(data_info.shape[0]):\n",
    "    unix_time.append(datetime.combine(data_info.Date[i], data_info.Time[i]))"
   ]
  },
  {
   "cell_type": "code",
   "execution_count": 174,
   "metadata": {},
   "outputs": [],
   "source": [
    "data_info[\"Time\"] = np.array(unix_time)"
   ]
  },
  {
   "cell_type": "code",
   "execution_count": 175,
   "metadata": {},
   "outputs": [
    {
     "data": {
      "text/html": [
       "<div>\n",
       "<style scoped>\n",
       "    .dataframe tbody tr th:only-of-type {\n",
       "        vertical-align: middle;\n",
       "    }\n",
       "\n",
       "    .dataframe tbody tr th {\n",
       "        vertical-align: top;\n",
       "    }\n",
       "\n",
       "    .dataframe thead th {\n",
       "        text-align: right;\n",
       "    }\n",
       "</style>\n",
       "<table border=\"1\" class=\"dataframe\">\n",
       "  <thead>\n",
       "    <tr style=\"text-align: right;\">\n",
       "      <th></th>\n",
       "      <th>Date</th>\n",
       "      <th>Time</th>\n",
       "      <th>Date_2</th>\n",
       "      <th>Time_2</th>\n",
       "      <th>label</th>\n",
       "    </tr>\n",
       "  </thead>\n",
       "  <tbody>\n",
       "    <tr>\n",
       "      <th>0</th>\n",
       "      <td>2018-10-12</td>\n",
       "      <td>2018-10-12 13:00:00</td>\n",
       "      <td>2018-10-12</td>\n",
       "      <td>16:00:00</td>\n",
       "      <td>Stopped</td>\n",
       "    </tr>\n",
       "    <tr>\n",
       "      <th>1</th>\n",
       "      <td>2018-10-12</td>\n",
       "      <td>2018-10-12 16:00:00</td>\n",
       "      <td>2018-10-12</td>\n",
       "      <td>18:00:00</td>\n",
       "      <td>Good</td>\n",
       "    </tr>\n",
       "    <tr>\n",
       "      <th>2</th>\n",
       "      <td>2018-10-12</td>\n",
       "      <td>2018-10-12 18:00:00</td>\n",
       "      <td>2018-10-13</td>\n",
       "      <td>12:15:00</td>\n",
       "      <td>Good</td>\n",
       "    </tr>\n",
       "    <tr>\n",
       "      <th>3</th>\n",
       "      <td>2018-10-13</td>\n",
       "      <td>2018-10-13 12:15:00</td>\n",
       "      <td>2018-10-13</td>\n",
       "      <td>14:15:00</td>\n",
       "      <td>Good</td>\n",
       "    </tr>\n",
       "    <tr>\n",
       "      <th>4</th>\n",
       "      <td>2018-10-13</td>\n",
       "      <td>2018-10-13 14:15:00</td>\n",
       "      <td>2018-10-13</td>\n",
       "      <td>18:15:00</td>\n",
       "      <td>Stopped</td>\n",
       "    </tr>\n",
       "  </tbody>\n",
       "</table>\n",
       "</div>"
      ],
      "text/plain": [
       "        Date                Time     Date_2    Time_2    label\n",
       "0 2018-10-12 2018-10-12 13:00:00 2018-10-12  16:00:00  Stopped\n",
       "1 2018-10-12 2018-10-12 16:00:00 2018-10-12  18:00:00     Good\n",
       "2 2018-10-12 2018-10-12 18:00:00 2018-10-13  12:15:00     Good\n",
       "3 2018-10-13 2018-10-13 12:15:00 2018-10-13  14:15:00     Good\n",
       "4 2018-10-13 2018-10-13 14:15:00 2018-10-13  18:15:00  Stopped"
      ]
     },
     "execution_count": 175,
     "metadata": {},
     "output_type": "execute_result"
    }
   ],
   "source": [
    "data_info.head()"
   ]
  },
  {
   "cell_type": "code",
   "execution_count": 176,
   "metadata": {},
   "outputs": [],
   "source": [
    "unix_time2 = []\n",
    "for i in range(data_info.shape[0]):\n",
    "        unix_time2.append(datetime.combine(data_info.Date_2[i], data_info.Time_2[i]))"
   ]
  },
  {
   "cell_type": "code",
   "execution_count": 177,
   "metadata": {},
   "outputs": [],
   "source": [
    "data_info.Time_2 = np.array(unix_time2)"
   ]
  },
  {
   "cell_type": "code",
   "execution_count": 178,
   "metadata": {},
   "outputs": [
    {
     "data": {
      "text/html": [
       "<div>\n",
       "<style scoped>\n",
       "    .dataframe tbody tr th:only-of-type {\n",
       "        vertical-align: middle;\n",
       "    }\n",
       "\n",
       "    .dataframe tbody tr th {\n",
       "        vertical-align: top;\n",
       "    }\n",
       "\n",
       "    .dataframe thead th {\n",
       "        text-align: right;\n",
       "    }\n",
       "</style>\n",
       "<table border=\"1\" class=\"dataframe\">\n",
       "  <thead>\n",
       "    <tr style=\"text-align: right;\">\n",
       "      <th></th>\n",
       "      <th>Date</th>\n",
       "      <th>Time</th>\n",
       "      <th>Date_2</th>\n",
       "      <th>Time_2</th>\n",
       "      <th>label</th>\n",
       "    </tr>\n",
       "  </thead>\n",
       "  <tbody>\n",
       "    <tr>\n",
       "      <th>0</th>\n",
       "      <td>2018-10-12</td>\n",
       "      <td>2018-10-12 13:00:00</td>\n",
       "      <td>2018-10-12</td>\n",
       "      <td>2018-10-12 16:00:00</td>\n",
       "      <td>Stopped</td>\n",
       "    </tr>\n",
       "    <tr>\n",
       "      <th>1</th>\n",
       "      <td>2018-10-12</td>\n",
       "      <td>2018-10-12 16:00:00</td>\n",
       "      <td>2018-10-12</td>\n",
       "      <td>2018-10-12 18:00:00</td>\n",
       "      <td>Good</td>\n",
       "    </tr>\n",
       "    <tr>\n",
       "      <th>2</th>\n",
       "      <td>2018-10-12</td>\n",
       "      <td>2018-10-12 18:00:00</td>\n",
       "      <td>2018-10-13</td>\n",
       "      <td>2018-10-13 12:15:00</td>\n",
       "      <td>Good</td>\n",
       "    </tr>\n",
       "    <tr>\n",
       "      <th>3</th>\n",
       "      <td>2018-10-13</td>\n",
       "      <td>2018-10-13 12:15:00</td>\n",
       "      <td>2018-10-13</td>\n",
       "      <td>2018-10-13 14:15:00</td>\n",
       "      <td>Good</td>\n",
       "    </tr>\n",
       "    <tr>\n",
       "      <th>4</th>\n",
       "      <td>2018-10-13</td>\n",
       "      <td>2018-10-13 14:15:00</td>\n",
       "      <td>2018-10-13</td>\n",
       "      <td>2018-10-13 18:15:00</td>\n",
       "      <td>Stopped</td>\n",
       "    </tr>\n",
       "  </tbody>\n",
       "</table>\n",
       "</div>"
      ],
      "text/plain": [
       "        Date                Time     Date_2              Time_2    label\n",
       "0 2018-10-12 2018-10-12 13:00:00 2018-10-12 2018-10-12 16:00:00  Stopped\n",
       "1 2018-10-12 2018-10-12 16:00:00 2018-10-12 2018-10-12 18:00:00     Good\n",
       "2 2018-10-12 2018-10-12 18:00:00 2018-10-13 2018-10-13 12:15:00     Good\n",
       "3 2018-10-13 2018-10-13 12:15:00 2018-10-13 2018-10-13 14:15:00     Good\n",
       "4 2018-10-13 2018-10-13 14:15:00 2018-10-13 2018-10-13 18:15:00  Stopped"
      ]
     },
     "execution_count": 178,
     "metadata": {},
     "output_type": "execute_result"
    }
   ],
   "source": [
    "data_info.head()"
   ]
  },
  {
   "cell_type": "code",
   "execution_count": 179,
   "metadata": {},
   "outputs": [],
   "source": [
    "names = [\"Name\",\"Label\"]\n",
    "df_audio = pd.DataFrame(columns=names)"
   ]
  },
  {
   "cell_type": "code",
   "execution_count": 180,
   "metadata": {},
   "outputs": [],
   "source": [
    "df_audio.Name = np.array(audios)"
   ]
  },
  {
   "cell_type": "code",
   "execution_count": 181,
   "metadata": {},
   "outputs": [],
   "source": [
    "label = []\n",
    "for i in range(len(_date)):\n",
    "    label.append(data_info[(_time[i] > data_info.Time) & (_time[i] < data_info.Time_2)].label.to_string().split(\" \")[-1])"
   ]
  },
  {
   "cell_type": "code",
   "execution_count": 182,
   "metadata": {},
   "outputs": [],
   "source": [
    "df_audio.Label = label"
   ]
  },
  {
   "cell_type": "code",
   "execution_count": 183,
   "metadata": {},
   "outputs": [
    {
     "data": {
      "text/plain": [
       "(382, 2)"
      ]
     },
     "execution_count": 183,
     "metadata": {},
     "output_type": "execute_result"
    }
   ],
   "source": [
    "df_audio.shape"
   ]
  },
  {
   "cell_type": "code",
   "execution_count": 189,
   "metadata": {},
   "outputs": [],
   "source": [
    "df_audio = df_audio[df_audio.Label != \")\"]"
   ]
  },
  {
   "cell_type": "code",
   "execution_count": 191,
   "metadata": {},
   "outputs": [],
   "source": [
    "df_audio.to_csv(\"train.csv\", index = False)"
   ]
  },
  {
   "cell_type": "code",
   "execution_count": null,
   "metadata": {},
   "outputs": [],
   "source": []
  }
 ],
 "metadata": {
  "kernelspec": {
   "display_name": "Python 3",
   "language": "python",
   "name": "python3"
  },
  "language_info": {
   "codemirror_mode": {
    "name": "ipython",
    "version": 3
   },
   "file_extension": ".py",
   "mimetype": "text/x-python",
   "name": "python",
   "nbconvert_exporter": "python",
   "pygments_lexer": "ipython3",
   "version": "3.6.5"
  }
 },
 "nbformat": 4,
 "nbformat_minor": 2
}
